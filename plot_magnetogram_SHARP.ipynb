{
 "cells": [
  {
   "cell_type": "code",
   "execution_count": null,
   "metadata": {},
   "outputs": [],
   "source": [
    "# v2.3  (MZN 2019) download, analysis, and plot data di file terpisah\n",
    "\n",
    "import matplotlib.pyplot as plt\n",
    "import os\n",
    "import pandas as pd\n",
    "import numpy as np\n",
    "\n",
    "ar = 12017\n",
    "time = '2014.03.29'\n",
    "t_init=0 #start time (in hour UT t_init:00:00)\n",
    "t_term=24 #end time (in hour UT [t_term:00:00-01:00:00])\n",
    "t_step=1 #time step (hour +01:00:00 increment) \n",
    "time_str = (pd.to_datetime(time)).strftime('%Y-%m-%d')\n",
    "num = 2 # untuk nama file output, hanya ada 1 dan 2\n",
    "\n",
    "def path_folder(chapter,waktu):\n",
    "    nama_folder = str(ar)+'/'+chapter+'_'+str(waktu)+'/'\n",
    "    os.makedirs(nama_folder, exist_ok=True)\n",
    "    return(nama_folder)\n",
    "\n",
    "kolom = ['time','sumexc_erg','sumerg_loc','sumJz_tot','sumJz_loc','umJzBloc','ratc']    \n",
    "out_data = pd.read_csv(path_folder('output',time[8:10])+'OUTPUT_'+str(num)+'.txt', sep = ' ', names=kolom, index_col='time')\n",
    "out_data['hour'] = np.arange(t_init,t_term,t_step)\n",
    "def plot_out(data,k):\n",
    "    fig = plt.figure(k)\n",
    "    plt.plot(out_data['hour'],out_data[data],'.-')\n",
    "    plt.xticks(np.arange(t_init,t_term,3))\n",
    "    plt.title(data+'\\n'+time_str)\n",
    "    plt.xlabel('Time (hour in UT)')\n",
    "    plot_folder = path_folder('plot_output',time[8:10])\n",
    "    plt.grid(True)\n",
    "    os.makedirs(plot_folder, exist_ok=True)\n",
    "    path = os.path.join(plot_folder,kolom[i]+'_'+str(num)+'.png')\n",
    "    fig.savefig(path,dpi=600)\n",
    "    plt.close(fig)\n",
    "for i in np.arange(1,7,1): plot_out(kolom[i],i) "
   ]
  }
 ],
 "metadata": {
  "kernelspec": {
   "display_name": "Python 3",
   "language": "python",
   "name": "python3"
  },
  "language_info": {
   "codemirror_mode": {
    "name": "ipython",
    "version": 3
   },
   "file_extension": ".py",
   "mimetype": "text/x-python",
   "name": "python",
   "nbconvert_exporter": "python",
   "pygments_lexer": "ipython3",
   "version": "3.7.3"
  }
 },
 "nbformat": 4,
 "nbformat_minor": 2
}
